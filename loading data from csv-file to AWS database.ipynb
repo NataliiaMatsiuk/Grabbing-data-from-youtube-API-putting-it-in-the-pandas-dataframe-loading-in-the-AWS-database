{
 "cells": [
  {
   "cell_type": "code",
   "execution_count": 93,
   "metadata": {},
   "outputs": [
    {
     "name": "stdout",
     "output_type": "stream",
     "text": [
      "Requirement already satisfied: psycopg2 in c:\\users\\dell\\anaconda3\\lib\\site-packages (2.9.3)\n"
     ]
    }
   ],
   "source": [
    "!pip install psycopg2\n",
    "import psycopg2 as ps\n",
    "import pandas as pd"
   ]
  },
  {
   "cell_type": "code",
   "execution_count": 94,
   "metadata": {},
   "outputs": [
    {
     "data": {
      "text/html": [
       "<div>\n",
       "<style scoped>\n",
       "    .dataframe tbody tr th:only-of-type {\n",
       "        vertical-align: middle;\n",
       "    }\n",
       "\n",
       "    .dataframe tbody tr th {\n",
       "        vertical-align: top;\n",
       "    }\n",
       "\n",
       "    .dataframe thead th {\n",
       "        text-align: right;\n",
       "    }\n",
       "</style>\n",
       "<table border=\"1\" class=\"dataframe\">\n",
       "  <thead>\n",
       "    <tr style=\"text-align: right;\">\n",
       "      <th></th>\n",
       "      <th>video_id</th>\n",
       "      <th>video_title</th>\n",
       "      <th>upload_date</th>\n",
       "      <th>view_count</th>\n",
       "      <th>like_count</th>\n",
       "      <th>comment_count</th>\n",
       "    </tr>\n",
       "  </thead>\n",
       "  <tbody>\n",
       "    <tr>\n",
       "      <th>0</th>\n",
       "      <td>41eHLnSTEsY</td>\n",
       "      <td>День сто шестьдесят второй. Беседа с  Alexey A...</td>\n",
       "      <td>2022-08-04</td>\n",
       "      <td>0</td>\n",
       "      <td>74</td>\n",
       "      <td>0</td>\n",
       "    </tr>\n",
       "    <tr>\n",
       "      <th>1</th>\n",
       "      <td>fV4DOFnHoPE</td>\n",
       "      <td>День сто шестьдесят первый. Беседа с  Alexey A...</td>\n",
       "      <td>2022-08-03</td>\n",
       "      <td>1423833</td>\n",
       "      <td>263214</td>\n",
       "      <td>3433</td>\n",
       "    </tr>\n",
       "    <tr>\n",
       "      <th>2</th>\n",
       "      <td>bn9cq1JqDtc</td>\n",
       "      <td>На фронтах IV мировой. Беседа с  Андрей Пионтк...</td>\n",
       "      <td>2022-08-03</td>\n",
       "      <td>497961</td>\n",
       "      <td>63296</td>\n",
       "      <td>797</td>\n",
       "    </tr>\n",
       "    <tr>\n",
       "      <th>3</th>\n",
       "      <td>vSyZ0p-HcgM</td>\n",
       "      <td>День сто шестидесятый. Беседа с  Alexey Aresto...</td>\n",
       "      <td>2022-08-02</td>\n",
       "      <td>1691733</td>\n",
       "      <td>284706</td>\n",
       "      <td>3282</td>\n",
       "    </tr>\n",
       "    <tr>\n",
       "      <th>4</th>\n",
       "      <td>Dh9Dc6Sw3kY</td>\n",
       "      <td>День сто пятьдесят девятый. Беседа с  Alexey A...</td>\n",
       "      <td>2022-08-01</td>\n",
       "      <td>1883506</td>\n",
       "      <td>302672</td>\n",
       "      <td>3847</td>\n",
       "    </tr>\n",
       "  </tbody>\n",
       "</table>\n",
       "</div>"
      ],
      "text/plain": [
       "      video_id                                        video_title upload_date  \\\n",
       "0  41eHLnSTEsY  День сто шестьдесят второй. Беседа с  Alexey A...  2022-08-04   \n",
       "1  fV4DOFnHoPE  День сто шестьдесят первый. Беседа с  Alexey A...  2022-08-03   \n",
       "2  bn9cq1JqDtc  На фронтах IV мировой. Беседа с  Андрей Пионтк...  2022-08-03   \n",
       "3  vSyZ0p-HcgM  День сто шестидесятый. Беседа с  Alexey Aresto...  2022-08-02   \n",
       "4  Dh9Dc6Sw3kY  День сто пятьдесят девятый. Беседа с  Alexey A...  2022-08-01   \n",
       "\n",
       "   view_count  like_count  comment_count  \n",
       "0           0          74              0  \n",
       "1     1423833      263214           3433  \n",
       "2      497961       63296            797  \n",
       "3     1691733      284706           3282  \n",
       "4     1883506      302672           3847  "
      ]
     },
     "execution_count": 94,
     "metadata": {},
     "output_type": "execute_result"
    }
   ],
   "source": [
    "df = pd.read_csv('youtube_vids_1st_pull.csv', index_col=0)\n",
    "df.head()"
   ]
  },
  {
   "cell_type": "code",
   "execution_count": 95,
   "metadata": {},
   "outputs": [],
   "source": [
    "def connect_to_db(host_name, dbname, username, password, port):\n",
    "    try:\n",
    "        conn = ps.connect(host = host_name,database = dbname,user = username,password = password,port=port)\n",
    "    except ps.OperationalError as e:\n",
    "        raise e\n",
    "    else:\n",
    "        print(\"Connected!\")\n",
    "        return conn"
   ]
  },
  {
   "cell_type": "code",
   "execution_count": 96,
   "metadata": {},
   "outputs": [],
   "source": [
    "#create table\n",
    "def create_table(curr):\n",
    "    create_table_command = (\"\"\"CREATE TABLE IF NOT EXISTS videos (\n",
    "                            video_id VARCHAR(255) PRIMARY KEY,\n",
    "                            video_title TEXT NOT NULL,\n",
    "                            upload_date DATE NOT NULL DEFAULT CURRENT_DATE,\n",
    "                            view_count INTEGER NOT NULL,\n",
    "                            like_count INTEGER NOT NULL,\n",
    "                            comment_count INTEGER NOT NULL) \"\"\")\n",
    "    curr.execute(create_table_command)"
   ]
  },
  {
   "cell_type": "code",
   "execution_count": 97,
   "metadata": {},
   "outputs": [],
   "source": [
    "#write insert command\n",
    "def insert_into_table(curr, video_id, video_title, upload_date, view_count, like_count, comment_count):\n",
    "    insert_into_videos = (\"\"\"INSERT INTO videos (video_id, video_title, upload_date, view_count, like_count, comment_count)\n",
    "        VALUES (%s, %s, %s, %s, %s, %s);\"\"\")\n",
    "    row_to_insert = (video_id, video_title, upload_date, view_count, like_count, comment_count)\n",
    "    curr.execute(insert_into_videos, row_to_insert)"
   ]
  },
  {
   "cell_type": "code",
   "execution_count": 98,
   "metadata": {},
   "outputs": [],
   "source": [
    "#update row if video exists\n",
    "def update_row(curr, video_id, video_title, view_count, like_count, comment_count):\n",
    "    query = (\"\"\"UPDATE videos\n",
    "                SET video_title = %s,\n",
    "                    view_count = %s,\n",
    "                    like_count = %s,\n",
    "                    comment_count = %s\n",
    "                WHERE video_id = %s;\"\"\")\n",
    "    vars_to_update = (video_title, view_count, like_count, comment_count, video_id)\n",
    "    curr.execute(query, vars_to_update)"
   ]
  },
  {
   "cell_type": "code",
   "execution_count": 99,
   "metadata": {},
   "outputs": [],
   "source": [
    "#check to see if video exists\n",
    "def check_if_video_exists(curr,video_id):\n",
    "    query = (\"\"\"SELECT video_id FROM VIDEOS WHERE video_id = %s\"\"\")\n",
    "    curr.execute(query,(video_id,))\n",
    "    \n",
    "    return curr.fetchone() is not None\n"
   ]
  },
  {
   "cell_type": "code",
   "execution_count": 100,
   "metadata": {},
   "outputs": [],
   "source": [
    "def truncate_table(curr):\n",
    "    truncate_table = (\"\"\"TRUNCATE TABLE videos\"\"\")\n",
    "\n",
    "    curr.execute(truncate_table)"
   ]
  },
  {
   "cell_type": "code",
   "execution_count": 101,
   "metadata": {},
   "outputs": [],
   "source": [
    "def append_from_df_to_db(curr,df):\n",
    "    for i, rows in df.iterrows():\n",
    "        insert_into_table(curr, rows['video_id'], rows['video_title'], rows['upload_date'], rows['view_count'], rows['like_count'], rows['comment_count'])"
   ]
  },
  {
   "cell_type": "code",
   "execution_count": 102,
   "metadata": {},
   "outputs": [],
   "source": [
    "#updating the database\n",
    "#handling data for scalability\n",
    "\n",
    "#check to see if video exists\n",
    "def update_db(curr, df):\n",
    "    tmp_df = pd.DataFrame(columns=['video_id', 'video_title','upload_date', 'view_count', 'like_count', 'comment_count'])\n",
    "\n",
    "    for i, row in df.iterrows():\n",
    "        if check_if_video_exists(curr, row['video_id']): #if video already exiscts we will update\n",
    "            update_row(curr, row['video_id'], row['video_title'], row['view_count'], row['like_count'], row['comment_count'])\n",
    "        else: # the video does not exist so we need to append it to the df\n",
    "            tmp_df = tmp_df.append(row)\n",
    "    return tmp_df     \n",
    "#perform update on existing video\n",
    "\n",
    "#perform an insert on new videos"
   ]
  },
  {
   "cell_type": "code",
   "execution_count": 103,
   "metadata": {},
   "outputs": [
    {
     "name": "stdout",
     "output_type": "stream",
     "text": [
      "Connected!\n"
     ]
    }
   ],
   "source": [
    "#Main\n",
    "\n",
    "#database credentials\n",
    "host_name = 'xxxxxxxxxxxxxx.rds.amazonaws.com'\n",
    "dbname = 'myDatabase' \n",
    "port = '5432'\n",
    "username = 'xxxxxxxxxxx'\n",
    "password = 'xxxxxxxxxxx'\n",
    "conn = None\n",
    "\n",
    "#establish a connection to db\n",
    "conn = connect_to_db(host_name,dbname, username, password, port)\n",
    "curr = conn.cursor()"
   ]
  },
  {
   "cell_type": "code",
   "execution_count": 85,
   "metadata": {},
   "outputs": [],
   "source": [
    "create_table(curr)"
   ]
  },
  {
   "cell_type": "code",
   "execution_count": 112,
   "metadata": {},
   "outputs": [
    {
     "data": {
      "text/html": [
       "<div>\n",
       "<style scoped>\n",
       "    .dataframe tbody tr th:only-of-type {\n",
       "        vertical-align: middle;\n",
       "    }\n",
       "\n",
       "    .dataframe tbody tr th {\n",
       "        vertical-align: top;\n",
       "    }\n",
       "\n",
       "    .dataframe thead th {\n",
       "        text-align: right;\n",
       "    }\n",
       "</style>\n",
       "<table border=\"1\" class=\"dataframe\">\n",
       "  <thead>\n",
       "    <tr style=\"text-align: right;\">\n",
       "      <th></th>\n",
       "      <th>video_id</th>\n",
       "      <th>video_title</th>\n",
       "      <th>upload_date</th>\n",
       "      <th>view_count</th>\n",
       "      <th>like_count</th>\n",
       "      <th>comment_count</th>\n",
       "    </tr>\n",
       "  </thead>\n",
       "  <tbody>\n",
       "    <tr>\n",
       "      <th>0</th>\n",
       "      <td>41eHLnSTEsY</td>\n",
       "      <td>День сто шестьдесят второй. Беседа с  Alexey A...</td>\n",
       "      <td>2022-08-04</td>\n",
       "      <td>0</td>\n",
       "      <td>74</td>\n",
       "      <td>0</td>\n",
       "    </tr>\n",
       "    <tr>\n",
       "      <th>1</th>\n",
       "      <td>fV4DOFnHoPE</td>\n",
       "      <td>День сто шестьдесят первый. Беседа с  Alexey A...</td>\n",
       "      <td>2022-08-03</td>\n",
       "      <td>1423833</td>\n",
       "      <td>263214</td>\n",
       "      <td>3433</td>\n",
       "    </tr>\n",
       "    <tr>\n",
       "      <th>2</th>\n",
       "      <td>bn9cq1JqDtc</td>\n",
       "      <td>На фронтах IV мировой. Беседа с  Андрей Пионтк...</td>\n",
       "      <td>2022-08-03</td>\n",
       "      <td>497961</td>\n",
       "      <td>63296</td>\n",
       "      <td>797</td>\n",
       "    </tr>\n",
       "    <tr>\n",
       "      <th>3</th>\n",
       "      <td>vSyZ0p-HcgM</td>\n",
       "      <td>День сто шестидесятый. Беседа с  Alexey Aresto...</td>\n",
       "      <td>2022-08-02</td>\n",
       "      <td>1691733</td>\n",
       "      <td>284706</td>\n",
       "      <td>3282</td>\n",
       "    </tr>\n",
       "    <tr>\n",
       "      <th>54</th>\n",
       "      <td>lvpI9FxeBDE</td>\n",
       "      <td>Кооператив &amp;quot;Озеро&amp;quot; и термоядерная во...</td>\n",
       "      <td>2022-06-28</td>\n",
       "      <td>775962</td>\n",
       "      <td>68302</td>\n",
       "      <td>1292</td>\n",
       "    </tr>\n",
       "    <tr>\n",
       "      <th>...</th>\n",
       "      <td>...</td>\n",
       "      <td>...</td>\n",
       "      <td>...</td>\n",
       "      <td>...</td>\n",
       "      <td>...</td>\n",
       "      <td>...</td>\n",
       "    </tr>\n",
       "    <tr>\n",
       "      <th>306</th>\n",
       "      <td>xr0RwxyvrVQ</td>\n",
       "      <td>Сурков и &amp;quot;украинский вопрос&amp;quot;. Беседа...</td>\n",
       "      <td>2020-02-26</td>\n",
       "      <td>51419</td>\n",
       "      <td>4880</td>\n",
       "      <td>167</td>\n",
       "    </tr>\n",
       "    <tr>\n",
       "      <th>307</th>\n",
       "      <td>V3FEL6QmNeM</td>\n",
       "      <td>Подальше от Путина. Беседа с Аркадием Бабченко</td>\n",
       "      <td>2020-01-28</td>\n",
       "      <td>89196</td>\n",
       "      <td>7666</td>\n",
       "      <td>503</td>\n",
       "    </tr>\n",
       "    <tr>\n",
       "      <th>308</th>\n",
       "      <td>X5xVR_U9K8A</td>\n",
       "      <td>Путин и Питер. Беседа с Дмитрием Запольским</td>\n",
       "      <td>2019-11-26</td>\n",
       "      <td>228399</td>\n",
       "      <td>10796</td>\n",
       "      <td>604</td>\n",
       "    </tr>\n",
       "    <tr>\n",
       "      <th>309</th>\n",
       "      <td>fzkMnFdCoiQ</td>\n",
       "      <td>Русская эмиграция и русская культура</td>\n",
       "      <td>2019-10-29</td>\n",
       "      <td>9123</td>\n",
       "      <td>875</td>\n",
       "      <td>80</td>\n",
       "    </tr>\n",
       "    <tr>\n",
       "      <th>310</th>\n",
       "      <td>YB70LssUsrc</td>\n",
       "      <td>Новая оппозиция в Мосгордуме</td>\n",
       "      <td>2019-10-28</td>\n",
       "      <td>3962</td>\n",
       "      <td>352</td>\n",
       "      <td>5</td>\n",
       "    </tr>\n",
       "  </tbody>\n",
       "</table>\n",
       "<p>261 rows × 6 columns</p>\n",
       "</div>"
      ],
      "text/plain": [
       "        video_id                                        video_title  \\\n",
       "0    41eHLnSTEsY  День сто шестьдесят второй. Беседа с  Alexey A...   \n",
       "1    fV4DOFnHoPE  День сто шестьдесят первый. Беседа с  Alexey A...   \n",
       "2    bn9cq1JqDtc  На фронтах IV мировой. Беседа с  Андрей Пионтк...   \n",
       "3    vSyZ0p-HcgM  День сто шестидесятый. Беседа с  Alexey Aresto...   \n",
       "54   lvpI9FxeBDE  Кооператив &quot;Озеро&quot; и термоядерная во...   \n",
       "..           ...                                                ...   \n",
       "306  xr0RwxyvrVQ  Сурков и &quot;украинский вопрос&quot;. Беседа...   \n",
       "307  V3FEL6QmNeM     Подальше от Путина. Беседа с Аркадием Бабченко   \n",
       "308  X5xVR_U9K8A        Путин и Питер. Беседа с Дмитрием Запольским   \n",
       "309  fzkMnFdCoiQ               Русская эмиграция и русская культура   \n",
       "310  YB70LssUsrc                       Новая оппозиция в Мосгордуме   \n",
       "\n",
       "    upload_date view_count like_count comment_count  \n",
       "0    2022-08-04          0         74             0  \n",
       "1    2022-08-03    1423833     263214          3433  \n",
       "2    2022-08-03     497961      63296           797  \n",
       "3    2022-08-02    1691733     284706          3282  \n",
       "54   2022-06-28     775962      68302          1292  \n",
       "..          ...        ...        ...           ...  \n",
       "306  2020-02-26      51419       4880           167  \n",
       "307  2020-01-28      89196       7666           503  \n",
       "308  2019-11-26     228399      10796           604  \n",
       "309  2019-10-29       9123        875            80  \n",
       "310  2019-10-28       3962        352             5  \n",
       "\n",
       "[261 rows x 6 columns]"
      ]
     },
     "execution_count": 112,
     "metadata": {},
     "output_type": "execute_result"
    }
   ],
   "source": [
    "#update data for existing videos\n",
    "\n",
    "new_vid_df = update_db(curr, df)\n",
    "new_vid_df"
   ]
  },
  {
   "cell_type": "code",
   "execution_count": 111,
   "metadata": {},
   "outputs": [],
   "source": [
    "conn.commit()"
   ]
  },
  {
   "cell_type": "code",
   "execution_count": 113,
   "metadata": {},
   "outputs": [
    {
     "data": {
      "text/html": [
       "<div>\n",
       "<style scoped>\n",
       "    .dataframe tbody tr th:only-of-type {\n",
       "        vertical-align: middle;\n",
       "    }\n",
       "\n",
       "    .dataframe tbody tr th {\n",
       "        vertical-align: top;\n",
       "    }\n",
       "\n",
       "    .dataframe thead th {\n",
       "        text-align: right;\n",
       "    }\n",
       "</style>\n",
       "<table border=\"1\" class=\"dataframe\">\n",
       "  <thead>\n",
       "    <tr style=\"text-align: right;\">\n",
       "      <th></th>\n",
       "      <th>video_id</th>\n",
       "      <th>video_title</th>\n",
       "      <th>upload_date</th>\n",
       "      <th>view_count</th>\n",
       "      <th>like_count</th>\n",
       "      <th>comment_count</th>\n",
       "    </tr>\n",
       "  </thead>\n",
       "  <tbody>\n",
       "    <tr>\n",
       "      <th>99</th>\n",
       "      <td>so7sPx9Dhpk</td>\n",
       "      <td>Бои в городах. Беседа с  Олег Жданов</td>\n",
       "      <td>2022-05-23</td>\n",
       "      <td>873299</td>\n",
       "      <td>88988</td>\n",
       "      <td>1190</td>\n",
       "    </tr>\n",
       "    <tr>\n",
       "      <th>100</th>\n",
       "      <td>so7sPx9Dhpk</td>\n",
       "      <td>Бои в городах. Беседа с  Олег Жданов</td>\n",
       "      <td>2022-05-23</td>\n",
       "      <td>873299</td>\n",
       "      <td>88988</td>\n",
       "      <td>1190</td>\n",
       "    </tr>\n",
       "  </tbody>\n",
       "</table>\n",
       "</div>"
      ],
      "text/plain": [
       "        video_id                           video_title upload_date view_count  \\\n",
       "99   so7sPx9Dhpk  Бои в городах. Беседа с  Олег Жданов  2022-05-23     873299   \n",
       "100  so7sPx9Dhpk  Бои в городах. Беседа с  Олег Жданов  2022-05-23     873299   \n",
       "\n",
       "    like_count comment_count  \n",
       "99       88988          1190  \n",
       "100      88988          1190  "
      ]
     },
     "execution_count": 113,
     "metadata": {},
     "output_type": "execute_result"
    }
   ],
   "source": [
    "new_vid_df[new_vid_df['video_id']=='so7sPx9Dhpk']"
   ]
  },
  {
   "cell_type": "code",
   "execution_count": 114,
   "metadata": {},
   "outputs": [],
   "source": [
    "new_vid_df.drop(new_vid_df[new_vid_df['video_id'] =='so7sPx9Dhpk'].index, inplace=True)"
   ]
  },
  {
   "cell_type": "code",
   "execution_count": 115,
   "metadata": {},
   "outputs": [
    {
     "data": {
      "text/html": [
       "<div>\n",
       "<style scoped>\n",
       "    .dataframe tbody tr th:only-of-type {\n",
       "        vertical-align: middle;\n",
       "    }\n",
       "\n",
       "    .dataframe tbody tr th {\n",
       "        vertical-align: top;\n",
       "    }\n",
       "\n",
       "    .dataframe thead th {\n",
       "        text-align: right;\n",
       "    }\n",
       "</style>\n",
       "<table border=\"1\" class=\"dataframe\">\n",
       "  <thead>\n",
       "    <tr style=\"text-align: right;\">\n",
       "      <th></th>\n",
       "      <th>video_id</th>\n",
       "      <th>video_title</th>\n",
       "      <th>upload_date</th>\n",
       "      <th>view_count</th>\n",
       "      <th>like_count</th>\n",
       "      <th>comment_count</th>\n",
       "    </tr>\n",
       "  </thead>\n",
       "  <tbody>\n",
       "  </tbody>\n",
       "</table>\n",
       "</div>"
      ],
      "text/plain": [
       "Empty DataFrame\n",
       "Columns: [video_id, video_title, upload_date, view_count, like_count, comment_count]\n",
       "Index: []"
      ]
     },
     "execution_count": 115,
     "metadata": {},
     "output_type": "execute_result"
    }
   ],
   "source": [
    "new_vid_df[new_vid_df['video_id']=='so7sPx9Dhpk']"
   ]
  },
  {
   "cell_type": "code",
   "execution_count": 116,
   "metadata": {},
   "outputs": [],
   "source": [
    "#insert new videos into db table\n",
    "append_from_df_to_db(curr,new_vid_df)\n",
    "conn.commit()"
   ]
  },
  {
   "cell_type": "code",
   "execution_count": 117,
   "metadata": {},
   "outputs": [
    {
     "name": "stdout",
     "output_type": "stream",
     "text": [
      "[('Dh9Dc6Sw3kY', 'День сто пятьдесят девятый. Беседа с  Alexey Arestovych Алексей Арестович', datetime.date(2022, 8, 1), 1883506, 302672, 3847, None), ('IGHXVvpLbEc', 'Две угрозы. Беседа с Юрием Фёдоровым', datetime.date(2022, 7, 31), 933966, 88567, 850, None), ('1n0r23kPCSg', 'Концлагерь в Еленовке. Беседа с Антоном Геращенко', datetime.date(2022, 7, 30), 1039028, 117737, 3655, None), ('cArmrPDp8sY', 'День сто пятьдесят шестой. Беседа с  Alexey Arestovych Алексей Арестович', datetime.date(2022, 7, 29), 2049854, 299525, 5209, None), ('3hj0QtW0WJw', 'Война до последнего русского. Беседа с Фёдором Крашенинниковым', datetime.date(2022, 7, 28), 837709, 73468, 2295, None), ('RKHAHi8K3IA', 'День сто пятьдесят четвёртый. Беседа с  Alexey Arestovych Алексей Арестович', datetime.date(2022, 7, 27), 1787524, 287279, 4055, None), ('7FrhwpCb570', 'Правый берег. Беседа с  Олег Жданов', datetime.date(2022, 7, 27), 916989, 111604, 1248, None), ('9fuz_mz6PUk', 'Перемирие. Беседа с  Андрей Пионтковский', datetime.date(2022, 7, 27), 703980, 78947, 1211, None), ('k9SQVzTjfR0', 'Пять месяцев. Беседа с Геннадием Гудковым', datetime.date(2022, 7, 26), 898489, 99257, 3405, None), ('4UmroqAS5G0', 'День сто пятьдесят второй. Беседа с  Alexey Arestovych Алексей Арестович', datetime.date(2022, 7, 25), 1874937, 281650, 3704, None), ('Ojkcp95Y_G0', 'Ничтожная сделка. Беседа с  Тарас Березовец', datetime.date(2022, 7, 24), 995169, 108199, 2420, None), ('1YyvwCfFmoE', 'День сто пятидесятый. Беседа с  Alexey Arestovych Алексей Арестович', datetime.date(2022, 7, 23), 1840827, 273575, 3772, None), ('j1OGT69D9jc', 'День сто сорок девятый. Беседа с  Alexey Arestovych Алексей Арестович', datetime.date(2022, 7, 22), 1718099, 282503, 3707, None), ('_y2krec8POo', 'День сто сорок восьмой. Беседа с  Alexey Arestovych Алексей Арестович', datetime.date(2022, 7, 21), 1666333, 289294, 3320, None), ('9qA4P30gGyI', 'В натуре мобилизованные. Беседа с Владимиром Осечкиным  Гулагу-нет Официальный канал', datetime.date(2022, 7, 21), 720002, 70372, 1134, None), ('z_B7GoLPxXA', 'День сто сорок седьмой. Беседа с  Alexey Arestovych Алексей Арестович', datetime.date(2022, 7, 20), 1628382, 293946, 3358, None), ('R7qOqegFKJ4', 'Зерно в обмен на мир. Беседа с  Yulia Latynina Юлия Латынина', datetime.date(2022, 7, 20), 308952, 33722, 797, None), ('X6LFCxK3wpQ', 'Ракетный шантаж. Беседа с  Андрей Пионтковский', datetime.date(2022, 7, 20), 494231, 57397, 744, None), ('t1-RWRkoW9M', 'День сто сорок шестой. Беседа с  Alexey Arestovych Алексей Арестович', datetime.date(2022, 7, 19), 1669909, 291399, 3665, None), ('QsTTl1ZIfg8', 'Сопутствующий ущерб. Беседа с Геннадием Гудковым', datetime.date(2022, 7, 19), 638200, 73023, 1035, None), ('14kI7MbduZg', 'В ожидании приговора. Беседа с Вадимом Лукашевичем', datetime.date(2022, 7, 19), 309662, 28193, 544, None), ('g-ah84011yk', 'День сто сорок пятый. Беседа с  Alexey Arestovych Алексей Арестович', datetime.date(2022, 7, 18), 1688638, 282618, 4176, None), ('UG51pb0SvNw', 'Огонь по складам. Беседа с  Олег Жданов', datetime.date(2022, 7, 18), 1213254, 143155, 1812, None), ('ZrsR9caZ50U', 'Уцелеет ли Крымский мост? Стрим Марка Фейгина', datetime.date(2022, 7, 17), 1090341, 160994, 3572, None), ('oBYl9BBs0CE', 'День сто сорок третий. Беседа с  Alexey Arestovych Алексей Арестович', datetime.date(2022, 7, 16), 2020966, 402757, 5264, None), ('k8FtFu8ogtY', 'День сто сорок второй. Беседа с  Alexey Arestovych Алексей Арестович', datetime.date(2022, 7, 15), 1948979, 333914, 7812, None), ('fV2k4SQk6fw', 'Ценовой коридор. Беседа с Михаилом Крутихиным', datetime.date(2022, 7, 14), 752958, 72431, 1117, None), ('tY0hgONUYUw', 'День сто сороковой. Беседа с  Alexey Arestovych Алексей Арестович', datetime.date(2022, 7, 13), 1935756, 431240, 4578, None), ('LhjIxzHsDQI', 'Наступление на Херсон - вступление в НАТО. Беседа с  Андрей Пионтковский', datetime.date(2022, 7, 13), 986523, 87353, 1209, None), ('LkeeVCaZCzU', 'Феномен рашизма. Беседа с Марком Липовецким', datetime.date(2022, 7, 13), 429419, 41847, 1152, None), ('11ETn8EkQeE', 'Мы ещё не начинали... Беседа с Юрием Фельштинским', datetime.date(2022, 7, 12), 1035308, 86617, 3040, None), ('0VxCtHO2DVU', 'День сто тридцать восьмой. Беседа с  Alexey Arestovych Алексей Арестович', datetime.date(2022, 7, 11), 1959255, 281531, 4109, None), ('R7t9NZkQpjk', 'Оперативная пауза. Беседа с Юрием Фёдоровым', datetime.date(2022, 7, 11), 602321, 52607, 523, None), ('QKM3jVCvMQE', 'Один &quot;G&quot;. Беседа с Геннадием Гудковым', datetime.date(2022, 7, 10), 1031368, 99296, 2694, None), ('vcYpXYUZwZ4', 'Путинская утилизация русских. Беседа с  Народовластие В. Мальцев Вячеслав Мальцев', datetime.date(2022, 7, 9), 890861, 75508, 2093, None), ('x1Z8WoDzzAA', 'День сто тридцать пятый. Беседа с  Alexey Arestovych Алексей Арестович', datetime.date(2022, 7, 8), 1983543, 289365, 3341, None), ('lFE68t6p0hg', 'В ожидании ленд-лиза. Беседа с Андреем Илларионовым', datetime.date(2022, 7, 8), 648490, 51289, 3175, None), ('y1kIPUptwt4', 'Эндшпиль войны. Беседа с Андреем Пионтковским', datetime.date(2022, 7, 8), 777497, 81877, 1305, None), ('ybvIn5W6akY', 'День сто тридцать четвёртый. Беседа с  Alexey Arestovych Алексей Арестович', datetime.date(2022, 7, 7), 1638792, 247254, 3532, None), ('zPL2Y-TnnEM', 'Цена Донбасса. Беседа с  Олег Жданов Олег Жданов', datetime.date(2022, 7, 7), 852824, 98170, 1408, None), ('seuG0fFZ8Ds', 'День сто тридцать третий. Беседа с  Alexey Arestovych Алексей Арестович', datetime.date(2022, 7, 6), 1637427, 247206, 4304, None), ('0fNsL5Z4uDM', 'Война в интернете. Беседа с  Леонид Волков  и Михаилом Климарёвым', datetime.date(2022, 7, 6), 288586, 29125, 525, None), ('AnYfwc78ReU', 'День сто тридцать второй. Беседа с  Alexey Arestovych Алексей Арестович', datetime.date(2022, 7, 5), 1693720, 262919, 4243, None), ('sRQ6Ioc2Tqk', 'День сто тридцать первый. Беседа с  Alexey Arestovych Алексей Арестович', datetime.date(2022, 7, 4), 1908608, 292772, 5767, None), ('wzTh992chmE', 'Военные преступники. Беседа с Геннадием Гудковым', datetime.date(2022, 7, 3), 891674, 103781, 2102, None), ('z31hAWRsSWo', 'День сто двадцать девятый. Беседа с  Alexey Arestovych Алексей Арестович', datetime.date(2022, 7, 2), 1825279, 253820, 4650, None), ('MW9ivGjeh64', 'День сто двадцать восьмой. Беседа с  Alexey Arestovych Алексей Арестович', datetime.date(2022, 7, 1), 1645488, 256180, 3875, None), ('ervFMRqkfdw', 'Враг номер один. Беседа с Юрием Фёдоровым', datetime.date(2022, 6, 30), 964957, 83819, 1063, None), ('NNA0kIk7IDE', 'День сто двадцать шестой. Беседа с  Alexey Arestovych Алексей Арестович', datetime.date(2022, 6, 29), 1996191, 294196, 4148, None), ('DmAAnNZQCu8', 'Спонсор терроризма. Стрим Марка Фейгина', datetime.date(2022, 6, 28), 825075, 110627, 2047, None), ('41eHLnSTEsY', 'День сто шестьдесят второй. Беседа с  Alexey Arestovych Алексей Арестович', datetime.date(2022, 8, 4), 0, 74, 0, None), ('fV4DOFnHoPE', 'День сто шестьдесят первый. Беседа с  Alexey Arestovych Алексеем Арестовичем', datetime.date(2022, 8, 3), 1423833, 263214, 3433, None), ('bn9cq1JqDtc', 'На фронтах IV мировой. Беседа с  Андрей Пионтковский', datetime.date(2022, 8, 3), 497961, 63296, 797, None), ('vSyZ0p-HcgM', 'День сто шестидесятый. Беседа с  Alexey Arestovych Алексей Арестович', datetime.date(2022, 8, 2), 1691733, 284706, 3282, None), ('lvpI9FxeBDE', 'Кооператив &quot;Озеро&quot; и термоядерная война. Беседа с Алексеем Лушниковым', datetime.date(2022, 6, 28), 775962, 68302, 1292, None), ('Fz-MI2i0FEU', 'День сто двадцать четвёртый. Беседа с  Alexey Arestovych Алексей Арестович', datetime.date(2022, 6, 27), 2045289, 307103, 5607, None), ('14_nkfn5DzM', 'Оборона и окружение. Беседа с  Олег Жданов Олег Жданов', datetime.date(2022, 6, 26), 1431333, 172335, 2807, None), ('72KHG6bNrBU', 'День сто двадцать второй. Беседа с  Alexey Arestovych Алексей Арестович', datetime.date(2022, 6, 25), 1770370, 263600, 3764, None), ('4qoGu2V-qtA', 'Сувалкский коридор. Беседа Андрея Пионтковского, Геннадия Гудкова, Марка Фейгина', datetime.date(2022, 6, 25), 1051332, 87975, 1436, None), ('5rVNmPKDQzw', 'День сто двадцать первый. Беседа с  Alexey Arestovych Алексей Арестович', datetime.date(2022, 6, 24), 1860392, 257267, 5438, None), ('d4ToAk-G1oQ', 'Седьмой пакет. Беседа с Михаилом Крутихиным', datetime.date(2022, 6, 23), 707579, 64821, 1190, None), ('jscbon_l3mQ', 'День сто девятнадцатый. Беседа с  Alexey Arestovych  Алексей Арестович.', datetime.date(2022, 6, 22), 939149, 103836, 2751, None), ('qlp3bOwBLCo', 'День сто девятнадцатый. Беседа с  Alexey Arestovych Алексей Арестович', datetime.date(2022, 6, 22), 1138974, 259510, 2032, None), ('1yO_Hu-O8eo', 'Отпадение от Москвы. Беседа с Фёдором Крашенинниковым', datetime.date(2022, 6, 22), 572009, 43396, 1230, None), ('dD4E8pgXtCI', 'День сто восемнадцатый. Беседа с  Alexey Arestovych Алексей Арестович', datetime.date(2022, 6, 21), 1761626, 248142, 3220, None), ('OEDIzpr90C0', 'День сто семнадцатый. Беседа с  Alexey Arestovych Алексей Арестович', datetime.date(2022, 6, 20), 1858720, 270209, 4242, None), ('2igpzn3sXgk', 'Последний император. Беседа с Геннадием Гудковым', datetime.date(2022, 6, 19), 1023192, 100571, 1956, None), ('j1L8C0_IypA', 'День сто пятнадцатый. Беседа с  Alexey Arestovych Алексей Арестович', datetime.date(2022, 6, 18), 1791331, 226634, 3373, None), ('atQ_2nNs4ak', 'День сто четырнадцатый. Беседа с  Alexey Arestovych Алексей Арестович', datetime.date(2022, 6, 17), 1814002, 339987, 4169, None), ('_tt26SaTQ5w', 'Поезд на Мюнхен. Беседа с Андреем Пионтковским', datetime.date(2022, 6, 16), 939223, 111484, 1700, None), ('jIpCRdDrAhI', 'от Рамштайна до Северодонецка. Беседа с  Олег Жданов', datetime.date(2022, 6, 16), 1201241, 137510, 2052, None), ('Np8zX3TjFM0', 'День сто двенадцатый. Беседа с  Alexey Arestovych Алексей Арестович', datetime.date(2022, 6, 15), 1897385, 270829, 4231, None), ('q0oNVT3vJRs', 'Z-богема. Беседа с Марией Максаковой', datetime.date(2022, 6, 15), 900663, 67612, 3348, None), ('7EZ4S-qhgDk', 'День сто одиннадцатый. Беседа с  Alexey Arestovych Алексей Арестович', datetime.date(2022, 6, 14), 1739095, 242660, 4259, None), ('e8UIbBk0kl8', 'День сто десятый. Беседа с  Alexey Arestovych Алексей Арестович', datetime.date(2022, 6, 13), 1910234, 275166, 5185, None), ('josWZVUoB8U', 'Наследник Петра. Беседа с Юрием Фельштинским', datetime.date(2022, 6, 12), 930178, 74779, 1975, None), ('fFFHH9cp_Tk', 'День сто восьмой. Беседа с  Alexey Arestovych Алексей Арестович', datetime.date(2022, 6, 11), 1869290, 255634, 5366, None), ('2IsCl9Vt5To', 'День сто седьмой. Беседа с  Alexey Arestovych Алексей Арестович', datetime.date(2022, 6, 10), 1875746, 284388, 6234, None), ('RNGYe7_rKig', 'Древнее зло. Беседа с Михаилом Саввой', datetime.date(2022, 6, 10), 584362, 57149, 1165, None), ('5kMot5WPaWQ', 'В ожидании передышки. Беседа с  Олег Жданов', datetime.date(2022, 6, 9), 1480534, 183235, 3088, None), ('t-eM5U8N8KE', 'День сто пятый. Беседа с  Alexey Arestovych Алексей Арестович', datetime.date(2022, 6, 8), 1937878, 284002, 4621, None), ('YJxjNjZ-Yz4', 'День сто четвёртый. Беседа с  Alexey Arestovych Алексей Арестович', datetime.date(2022, 6, 7), 1767788, 257289, 3319, None), ('cgxAh96XD54', 'День сто третий. Беседа с  Alexey Arestovych Алексей Арестович', datetime.date(2022, 6, 6), 1843777, 269917, 4335, None), ('Wsse6xC7ePk', 'Евро-лобби. Беседа с Михаилом Крутихиным', datetime.date(2022, 6, 5), 823446, 62034, 858, None), ('EfYG3UkOIcE', 'День сто первый. Беседа с  Alexey Arestovych Алексей Арестович', datetime.date(2022, 6, 4), 1969074, 264497, 4200, None), ('aCptNhq3WNs', 'День сотый. Беседа с  Alexey Arestovych  Алексей Арестович', datetime.date(2022, 6, 3), 1839266, 504136, 7768, None), ('aTZGCoxOhE8', 'Резистенция. Беседа со Светланой Тихановской', datetime.date(2022, 6, 3), 842828, 71037, 2830, None), ('XNYnlr9ySGU', 'День девяносто девятый. Беседа с  Alexey Arestovych Алексей Арестович', datetime.date(2022, 6, 2), 1788901, 391381, 4933, None), ('mtcyXMwWSm0', 'День девяносто восьмой. Беседа с  Alexey Arestovych Алексей Арестович', datetime.date(2022, 6, 1), 1772653, 253549, 3396, None), ('mNjjg_md-qY', 'День девяносто седьмой. Беседа с  Alexey Arestovych Алексей Арестович', datetime.date(2022, 5, 31), 1895478, 251862, 5344, None), ('xDGuiTtUiHw', 'День девяносто шестой. Беседа с  Alexey Arestovych Алексей Арестович', datetime.date(2022, 5, 30), 1979482, 250510, 4533, None), ('2OwcMuV9FsY', 'Святой Javelin божественный Himars. Беседа с Юрием Фёдоровым', datetime.date(2022, 5, 30), 689653, 56414, 916, None), ('7Txa_GEUM2s', 'Мясо против железа. Беседа с Геннадием Гудковым', datetime.date(2022, 5, 29), 1138951, 94491, 2570, None), ('StfLItu2F8M', 'День девяносто четвертый. Беседа с  Alexey Arestovych Алексей Арестович', datetime.date(2022, 5, 28), 2087844, 282014, 5746, None), ('oPUihI8mTus', 'День девяносто третий. Беседа с  Alexey Arestovych Алексей Арестович', datetime.date(2022, 5, 27), 1953915, 296525, 5409, None), ('4CssCrrOI-I', 'День девяносто второй. Беседа с  Alexey Arestovych  Алексей Арестович', datetime.date(2022, 5, 26), 2085386, 334921, 6575, None), ('Z15NFN_d368', 'День девяносто первый. Беседа с  Alexey Arestovych Алексей Арестович', datetime.date(2022, 5, 25), 2093883, 304352, 9247, None), ('cUOyuFpFf4o', 'День девяностый. Беседа с  Alexey Arestovych Алексей Арестович', datetime.date(2022, 5, 24), 1855840, 229321, 3889, None), ('v3JA2EnDQ7M', 'День восемьдесят девятый. Беседа с  Alexey Arestovych Алексей Арестович', datetime.date(2022, 5, 23), 2087966, 273289, 5182, None), ('fldGy25M_7I', 'Две войны. Беседа с Ахмедом Закаевым', datetime.date(2022, 5, 22), 1210282, 93699, 3114, None), ('Qroepyl7De4', 'День восемьдесят седьмой. Беседа с  Alexey Arestovych Алексей Арестович', datetime.date(2022, 5, 21), 2469145, 254807, 5288, None), ('EXwkCtVaaSk', 'Ядерное сдерживание. Беседа с Павлом Лузиным', datetime.date(2022, 5, 21), 546585, 44041, 535, None), ('HkiTJsdIvQg', 'Репетиция похорон. Беседа с Андреем Космачем и  Валерий Соловей', datetime.date(2022, 5, 20), 2262071, 129711, 5743, None), ('F0XG_tUHbUo', 'День восемьдесят пятый. Беседа с  Alexey Arestovych Алексей Арестович', datetime.date(2022, 5, 19), 2496698, 261105, 3522, None), ('isPHa5dCFoA', 'Бесполезные идиоты. Беседа Андрея Пионтковского, Геннадия Гудкова, Марка Фейгина', datetime.date(2022, 5, 19), 1004885, 75346, 1341, None), ('i5iEtCfi_d4', 'День восемьдесят четвёртый. Беседа с  Alexey Arestovych Алексей Арестович', datetime.date(2022, 5, 18), 2047847, 262525, 3984, None), ('BFeYwCDpThc', 'День восемьдесят третий. Беседа с  Alexey Arestovych Алексей Арестович', datetime.date(2022, 5, 17), 2040833, 282397, 4378, None), ('faLPrqD0AL0', 'День восемьдесят второй. Беседа с  Alexey Arestovych Алексей Арестович', datetime.date(2022, 5, 16), 2132248, 296613, 4111, None), ('KIc2ly2rt0w', 'День восемьдесят первый. Беседа с  Alexey Arestovych Алексей Арестович', datetime.date(2022, 5, 15), 2031788, 252214, 3542, None), ('uCPZWIszf3I', 'День восьмидесятый. Беседа с  Alexey Arestovych Алексей Арестович', datetime.date(2022, 5, 14), 2107270, 271778, 4795, None), ('AuvOiXJaoY4', 'День семьдесят девятый. Беседа с  Alexey Arestovych Алексей Арестович', datetime.date(2022, 5, 13), 1943871, 256973, 3286, None), ('03AJkoXvyi4', 'День семьдесят восьмой. Беседа с  Alexey Arestovych Алексей Арестович', datetime.date(2022, 5, 12), 1995011, 274687, 3504, None), ('IVgWLufoVt8', 'Мы же братья! Беседа с Андреем Пионтковским', datetime.date(2022, 5, 12), 920539, 73079, 1189, None), ('OcSdqg6bLPA', 'День семьдесят седьмой. Беседа с  Alexey Arestovych Алексей Арестович', datetime.date(2022, 5, 11), 2069424, 281306, 3633, None), ('ay9R3RC0T0E', 'Хтонь. Беседа с  Александр Невзоров', datetime.date(2022, 5, 11), 926504, 63816, 2207, None), ('BEgItowFwpY', 'День семьдесят шестой. Беседа с  Alexey Arestovych Алексей Арестович', datetime.date(2022, 5, 10), 2030825, 274329, 3931, None), ('MIdr2omypC4', 'День семьдесят пятый. Беседа с  Alexey Arestovych Алексей Арестович', datetime.date(2022, 5, 9), 2044799, 279940, 4401, None), ('JEg-PC_bTAU', 'День семьдесят четвёртый. Беседа с  Alexey Arestovych Алексей Арестович', datetime.date(2022, 5, 8), 2255321, 267749, 5533, None), ('felXtVdM2MA', 'День семьдесят третий. Беседа с  Alexey Arestovych Алексей Арестович', datetime.date(2022, 5, 7), 1947232, 259060, 4064, None), ('0h3XBDa7fkU', 'День семьдесят второй. Беседа с  Alexey Arestovych  Алексей Арестович', datetime.date(2022, 5, 6), 2051648, 299700, 4404, None), ('0tZZBJw3Mfc', 'День семьдесят первый. Беседа с  Alexey Arestovych Алексей Арестович', datetime.date(2022, 5, 5), 1948222, 269655, 3425, None), ('t4-Vf6L63Js', 'День семидесятый. Беседа с  Alexey Arestovych Алексей Арестович', datetime.date(2022, 5, 4), 1938225, 302237, 3952, None), ('FfeaUvBsStE', 'Праздничная мобилизация. Беседа с Юрием Фёдоровым', datetime.date(2022, 5, 4), 986989, 66667, 1118, None), ('MOifIuOhBiA', 'День шестьдесят девятый. Беседа с  Alexey Arestovych Алексей Арестович', datetime.date(2022, 5, 3), 2369483, 343165, 4794, None), ('w1HhdOe2W88', 'После рая. Беседа Андрея Пионтковского, Геннадия Гудкова, Марка Фейгина', datetime.date(2022, 5, 3), 1224598, 100709, 1583, None), ('rmpTkRnvMyM', 'День шестьдесят восьмой. Беседа с  Alexey Arestovych Алексей Арестович', datetime.date(2022, 5, 2), 2004268, 332890, 4719, None), ('qVPw33-qtgw', 'День шестьдесят седьмой. Беседа с  Alexey Arestovych Алексей Арестович', datetime.date(2022, 5, 1), 2098377, 345593, 5237, None), ('gA9XVJ4lv1g', 'День шестьдесят шестой. Беседа с  Alexey Arestovych Алексей Арестович', datetime.date(2022, 4, 30), 2026267, 317671, 6309, None), ('ZBAGFC0CIkw', 'День шестьдесят пятый. Беседа с  Alexey Arestovych Алексей Арестович', datetime.date(2022, 4, 29), 1882268, 333933, 4410, None), ('fud4AxHTsA4', 'Шестой пакет. Беседа с Михаилом Крутихиным', datetime.date(2022, 4, 29), 581313, 61205, 600, None), ('ZLVr8LX64nY', 'День шестьдесят четвёртый. Беседа с  Alexey Arestovych Алексей Арестович', datetime.date(2022, 4, 28), 1858627, 337801, 4046, None), ('Gd_S-T4BDJc', 'Ядерные санкции. Беседа с Фёдором Крашенинниковым', datetime.date(2022, 4, 28), 560975, 49927, 755, None), ('wDao68ooVVQ', 'День шестьдесят третий. Беседа с  Alexey Arestovych Алексей Арестович', datetime.date(2022, 4, 27), 1774521, 316576, 4051, None), ('n91q3K1JXSM', 'Третий фронт. Беседа с Олегом Ждановым', datetime.date(2022, 4, 27), 853688, 77314, 1154, None), ('MqtXBMuPjuU', 'День шестьдесят второй. Беседа с  Alexey Arestovych Алексей Арестович', datetime.date(2022, 4, 26), 1672369, 281894, 3885, None), ('dgjZHgXDBGI', 'Z-конец Путина. Беседа Андрея Пионтковского, Геннадия Гудкова, Марка Фейгина', datetime.date(2022, 4, 26), 1337695, 126225, 2596, None), ('qben3H-mciQ', 'День шестьдесят первый. Беседа с  Alexey Arestovych Алексей Арестович', datetime.date(2022, 4, 25), 1946567, 436511, 4864, None), ('yzWs4m8Ssmg', 'День шестидесятый. Беседа с  Alexey Arestovych Алексей Арестович', datetime.date(2022, 4, 24), 1747187, 270150, 4001, None), ('Nj34ttIgyII', 'День пятьдесят девятый. Беседа с  Alexey Arestovych Алексей Арестович', datetime.date(2022, 4, 23), 1905027, 449601, 5935, None), ('LvLNP05xMDE', 'День пятьдесят восьмой. Беседа с  Alexey Arestovych Алексей Арестович', datetime.date(2022, 4, 22), 1792661, 198270, 4187, None), ('59tN0cd66bA', 'Гарантии безопасности. Беседа с Андреем Илларионовым', datetime.date(2022, 4, 22), 590095, 41850, 1397, None), ('z4At0ncJWIg', 'День пятьдесят седьмой. Беседа с  Alexey Arestovych Алексей Арестович', datetime.date(2022, 4, 21), 1648871, 188959, 3951, None), ('Joq787vkKeY', 'Пасхальный геноцид. Беседа Андрея Пионтковского, Геннадия Гудкова, Марка Фейгина', datetime.date(2022, 4, 21), 1030168, 75813, 1729, None), ('Ae-6j8W8Vys', 'День пятьдесят шестой. Беседа с  Alexey Arestovych Алексей Арестович', datetime.date(2022, 4, 20), 1762405, 176887, 4667, None), ('4abmU0CVG6o', 'Успеть до 9 мая. Беседа с Олегом Ждановым', datetime.date(2022, 4, 20), 1349835, 88541, 1987, None), ('Wamzqj6G7SI', 'День пятьдесят пятый. Беседа с  Alexey Arestovych Алексей Арестович', datetime.date(2022, 4, 19), 1601734, 177622, 3572, None), ('fSbbDDg0-fc', 'День пятьдесят четвёртый. Беседа с  Alexey Arestovych Алексей Арестович', datetime.date(2022, 4, 18), 1654478, 179094, 3350, None), ('0jgfzpX7GtU', 'День пятьдесят третий. Беседа с  Alexey Arestovych  с Алексей Арестович', datetime.date(2022, 4, 17), 1802350, 209789, 4602, None), ('kGXHOclxfaw', 'День пятьдесят второй. Беседа с  Alexey Arestovych Алексеем Арестовичем', datetime.date(2022, 4, 16), 1457892, 153742, 3376, None), ('zbgLoYZayXw', 'День пятьдесят первый. Беседа с  Alexey Arestovych Алексей Арестович  | English subtitles', datetime.date(2022, 4, 15), 1588928, 175308, 4044, None), ('OZ016SMxLVY', 'День пятидесятый. Беседа с  Alexey Arestovych Алексей Арестович', datetime.date(2022, 4, 14), 1661462, 223989, 3127, None), ('CqG9zV6FSc0', 'День сорок девятый. Беседа с  Alexey Arestovych Алексей Арестович', datetime.date(2022, 4, 13), 1433058, 155981, 3067, None), ('4cosNBrG6Jo', 'Стратегия победы. Беседа Андрея Пионтковского, Геннадия Гудкова и Марка Фейгина', datetime.date(2022, 4, 13), 962580, 85561, 1392, None), ('csB4Mm5fNTQ', 'День сорок восьмой. Беседа с  Alexey Arestovych Алексей Арестович', datetime.date(2022, 4, 12), 1393463, 161747, 3223, None), ('8rAb67ndPx4', 'День сорок седьмой. Беседа с  Alexey Arestovych Алексей Арестович', datetime.date(2022, 4, 11), 1351158, 134689, 2662, None), ('JgeL9Mr_OXk', 'День сорок шестой. Беседа с  Alexey Arestovych Алексей Арестович', datetime.date(2022, 4, 10), 1342764, 124649, 3905, None), ('a0njMyqxVsQ', 'День сорок пятый. Беседа с   Alexey Arestovych Алексей Арестович', datetime.date(2022, 4, 9), 1217097, 143435, 2822, None), ('zpr1pPUqp2U', 'Клуб иностранных агентов. Стрим Марка Фейгина', datetime.date(2022, 4, 9), 344656, 32488, 752, None), ('Wc48L6Km97w', 'Соотношение резервов. Беседа с Олегом Ждановым', datetime.date(2022, 4, 8), 1353922, 111477, 2297, None), ('nFuQnYLYutA', 'Антифашизм. Беседа с Геннадием Гудковым и Андреем Пионтковским', datetime.date(2022, 4, 7), 778309, 60957, 2154, None), ('JV8fN2GZ-7Q', 'День сорок первый. Беседа с  Alexey Arestovych Алексей Арестович', datetime.date(2022, 4, 5), 1026257, 121133, 1790, None), ('BO6nI6o6ruY', 'После Бучи. Беседа с  Аркадий Бабченко Аркадий Бабченко', datetime.date(2022, 4, 5), 434971, 31284, 1777, None), ('5_VSoGBsg7U', 'День тридцать девятый. Беседа с  Alexey Arestovych Алексей Арестович | English subtitles', datetime.date(2022, 4, 3), 1391446, 136547, 3594, None), ('XsDDeUhm_uc', 'День тридцать восьмой. Беседа с  Alexey Arestovych Алексей Арестович', datetime.date(2022, 4, 2), 1162659, 102645, 2747, None), ('S-OGerp2odE', 'Бойня. Беседа с  Народовластие В. Мальцев  Вячеславом Мальцевым', datetime.date(2022, 3, 30), 896407, 46434, 1906, None), ('vAUwezcdrLk', 'День тридцать четвёртый. Беседа с  Alexey Arestovych Алексей Арестович', datetime.date(2022, 3, 29), 1373744, 125919, 2783, None), ('nISwqA7hLO8', 'Невозможный компромисс. Беседа с Андреем Пионтковским', datetime.date(2022, 3, 29), 805392, 66016, 1491, None), ('Ouxz_FgnoeM', 'Иск Раша Тудей к Фейгину. Стрим Марка Фейгина', datetime.date(2022, 3, 28), 573743, 38371, 865, None), ('fx-VTYfAl3A', 'День тридцать второй. Беседа с   Alexey Arestovych    Алексей Арестович', datetime.date(2022, 3, 27), 1276889, 80777, 1892, None), ('lLxj8VuIjBc', 'Дитя лубянки. Беседа с Альнуром Мусаевым', datetime.date(2022, 3, 27), 341855, 21378, 418, None), ('WR_w3oPf5Xo', 'Русский Лондон: отнять и поделить! Беседа с Андреем Сидельниковым', datetime.date(2022, 3, 25), 379391, 24797, 670, None), ('ZPDUT6UtMdA', 'День двадцать девятый. Календарный месяц. Беседа с  Alexey Arestovych  Алексей Арестович', datetime.date(2022, 3, 24), 1031567, 100816, 2456, None), ('uKo-oiFEX-4', 'День двадцать восьмой. Беседа с  Alexey Arestovych Алексей Арестович', datetime.date(2022, 3, 23), 1004802, 73961, 2075, None), ('_msi2rFrov0', 'День двадцать седьмой. Беседа с  Alexey Arestovych Алексей Арестович', datetime.date(2022, 3, 22), 1156638, 109875, 2471, None), ('OnKlbda19z4', 'Тотальная война. Беседа с Андреем  Пионтковским', datetime.date(2022, 3, 21), 672450, 57718, 1222, None), ('KyNC_EZl4rY', 'День двадцать шестой. Беседа с  Alexey Arestovych Алексей Арестович', datetime.date(2022, 3, 21), 930887, 77415, 1998, None), ('qgVi8KxTqQw', 'День двадцать пятый. Беседа с  Alexey Arestovych  Алексей Арестович', datetime.date(2022, 3, 20), 958445, 81566, 1919, None), ('FlCp1J_OwlI', 'День двадцать четвёртый. Беседа с  Alexey Arestovych Алексей Арестович', datetime.date(2022, 3, 19), 922461, 72281, 1931, None), ('j92C_fdmXsY', 'Стероидная ярость. Беседа с Глебом Павловским', datetime.date(2022, 3, 18), 537677, 34195, 803, None), ('Zg9tsXeSL4I', 'Пустеющий рейх. Беседа с Артемием Троицким', datetime.date(2022, 3, 17), 855839, 46478, 1595, None), ('Y0AT_LSAOmY', 'День двадцать первый. Контрнаступление. Беседа с  Alexey Arestovych  Алексей Арестович', datetime.date(2022, 3, 16), 909564, 87401, 2464, None), ('krBlgGZVgGM', 'День двадцатый. Беседа с  Alexey Arestovych Алексеем Арестовичем', datetime.date(2022, 3, 15), 779174, 74837, 1585, None), ('py3FGUm4SSg', 'Вместе шли, вместе и висеть! Стрим Марка Фейгина', datetime.date(2022, 3, 13), 710094, 52577, 1487, None), ('WyW4fqcajo8', 'День семнадцатый. Беседа с   Alexey Arestovych   Алексей Арестович', datetime.date(2022, 3, 12), 556550, 52676, 1472, None), ('EMyIMe9rK_E', 'Две недели спустя. Беседа с  Alexey Arestovych Алексей Арестович', datetime.date(2022, 3, 9), 454148, 37082, 896, None), ('oAZn3HpOp24', 'Длительная осада. Беседа с Юрием Фёдоровым', datetime.date(2022, 3, 8), 460362, 33365, 992, None), ('MWkNry5BMRo', 'Авантюра. Беседа с Андреем Илларионовым', datetime.date(2022, 3, 6), 517700, 30188, 1772, None), ('Zv-WB8AXLKs', 'Пределы шантажа. Беседа с Андреем Пионтковским', datetime.date(2022, 3, 2), 441462, 34908, 1371, None), ('wcGcADf4rPI', 'Необъявленная мировая война. Беседа с Юрием Фельштинским', datetime.date(2022, 3, 2), 301343, 24963, 888, None), ('6g1cH4dH7ME', 'Под знаком &quot;Z&quot;. Беседа с  Аркадий Бабченко', datetime.date(2022, 3, 1), 369628, 36152, 1810, None), ('79jtV0ik1dA', 'День пятый. Беседа с  Alexey Arestovych', datetime.date(2022, 2, 28), 355941, 24999, 702, None), ('dERKU4NPYqw', 'Обход блокировок. Беседа с Михаилом Климарёвым.', datetime.date(2022, 2, 27), 73990, 3755, 185, None), ('2aa-l4-cqCM', 'Обход блокировок. Беседа с Михаилом Климарёвым', datetime.date(2022, 2, 27), 129949, 9551, 200, None), ('__jp6IfB868', 'День четвёртый. Беседа с  Alexey Arestovych  Алексеем Арестовичем.', datetime.date(2022, 2, 27), 420004, 22044, 930, None), ('_k2jya0oKUg', 'Последний шанс-2. Беседа с  Тарас Березовец', datetime.date(2022, 2, 27), 254789, 10894, 392, None), ('LNTvc4dpDbE', 'Последний шанс. Беседа с  Тарас Березовец', datetime.date(2022, 2, 27), 248283, 18219, 758, None), ('uU53V6QF018', 'Таёжный план шаманов. Беседа с  Валерий Соловей', datetime.date(2022, 2, 25), 445853, 35524, 1635, None), ('3J9c8ugJFO8', 'Северный поток, чао! Беседа с Михаилом Крутихиным', datetime.date(2022, 2, 23), 217844, 21061, 341, None), ('ifwyrVCkK3k', 'Неизлечимый. Беседа с Фёдором Крашенинниковым', datetime.date(2022, 2, 21), 254735, 23621, 916, None), ('GSUZ9qXlt78', 'Учения Путина. Беседа с  Аркадий Бабченко', datetime.date(2022, 2, 16), 203726, 20544, 622, None), ('AKscSgEi-Rc', 'Блеф или война? Беседа с Ильёй Пономарёвым', datetime.date(2022, 2, 15), 164814, 13535, 471, None), ('JiL02KZJIUk', 'Украинская ловушка. Беседа с  Alexey Arestovych', datetime.date(2022, 2, 14), 234211, 23612, 1164, None), ('gdln4cnuUUE', 'Casus belli. Беседа с Алексеем Гончаренко', datetime.date(2022, 2, 14), 131071, 16293, 469, None), ('yaKYmkAt3UA', 'Последние приготовления. Беседа с  Народовластие В. Мальцев', datetime.date(2022, 2, 13), 257545, 17235, 1539, None), ('qncVvIoIfqc', 'Фатум. Беседа с Андреем Космачем', datetime.date(2022, 2, 12), 689311, 51036, 3087, None), ('GjDn31XIxk0', 'Аппетит агрессора. Беседа с  Тарас Березовец', datetime.date(2022, 2, 8), 187582, 21097, 555, None), ('16nCx5ip5rY', 'Гибридное поражение. Беседа с Андреем Пионтковским', datetime.date(2022, 2, 6), 390897, 34399, 865, None), ('fajseVKtkZo', 'Ядовитый Кремль. Беседа с Фёдором Крашенинниковым', datetime.date(2022, 2, 1), 192695, 19365, 595, None), ('pH1NRgEWhAI', 'Третья мировая. Беседа с Александром Морозовым', datetime.date(2022, 1, 25), 163618, 15596, 533, None), ('oikEs_m4jJ4', 'Соотношение сил. Беседа с Юрием Фёдоровым', datetime.date(2022, 1, 24), 208252, 20743, 751, None), ('6R9DXXmX_UA', 'Железная маска. Беседа с Фёдором Крашенинниковым', datetime.date(2022, 1, 17), 164328, 15512, 888, None), ('uk2SRgzk_QY', 'Казахстан: победители и проигравшие. Беседа с Жанболатом Мамаем', datetime.date(2022, 1, 12), 147016, 12868, 713, None), ('HN5nSGXQedU', 'Двойное проникновение. Стрим Марка Фейгина', datetime.date(2022, 1, 12), 150206, 16360, 363, None), ('Gybn6iLLriA', 'Неистребимый совок. Беседа с журналистом, музыкальным критиком Артемием Троицким', datetime.date(2021, 12, 30), 102295, 10351, 462, None), ('Z9dESb416Co', 'Порочное наследство. Беседа с Геннадием Гудковым', datetime.date(2021, 12, 25), 175660, 18339, 589, None), ('Px2zcm7qlQ0', 'Сахаров и Навальный. Беседа с Фёдором Крашенинниковым', datetime.date(2021, 12, 21), 116544, 13603, 470, None), ('Y0ND-HtWu3o', 'Дорогой Гитлера. Беседа с Юрием Фёдоровым', datetime.date(2021, 12, 20), 199021, 17527, 647, None), ('Tn-VXQF82Hw', 'Нобелевский член. Беседа с  Народовластие В. Мальцев', datetime.date(2021, 12, 11), 151494, 14052, 1264, None), ('Fk8a0pCaWto', 'This is Munich. Беседа с Андреем Илларионовым', datetime.date(2021, 12, 9), 146509, 13036, 997, None), ('C2X1XxzMKzk', 'Война в обмен на санкции. Беседа с Геннадием Гудковым', datetime.date(2021, 12, 9), 105483, 11836, 340, None), ('EVQFE0kbmYA', 'Пришли за Хованскими и Моргенштернами. Беседа с Михаилом Световым', datetime.date(2021, 12, 2), 104421, 10087, 354, None), ('hKCmGDOu05I', 'Между блефом и войной. Беседа с Андреем Пионтковским', datetime.date(2021, 11, 25), 198662, 20995, 504, None), ('L7I7rw4WePU', 'Решение проблем внутренних путём создания внешних. Беседа с  Валерий Соловей', datetime.date(2021, 11, 19), 161450, 16341, 487, None), ('ZJj6oRT1CBw', 'QR-Russia. Беседа с  SVTV  Михаилом Световым', datetime.date(2021, 11, 9), 94564, 9971, 480, None), ('hOeT13XUPpo', 'Колониальные нравы. Беседа с Дмитрием Демушкиным', datetime.date(2021, 11, 8), 120270, 12963, 617, None), ('wWPjks38ifE', 'День народного единства. Беседа с  Игорь Яковенко', datetime.date(2021, 11, 2), 142034, 15820, 501, None), ('TfX0CpnJ_i8', 'Хэллуоин для Орейры. Беседа с  Аркадий Бабченко,  Айдер Муждабаев,  Роман Цимбалюк', datetime.date(2021, 10, 31), 133920, 15105, 2037, None), ('xEIMiXAKe5w', 'Цена европейской демократии. Беседа с Михаилом Крутихиным', datetime.date(2021, 10, 16), 140524, 14754, 427, None), ('a4PvfYRD11w', 'Тюрьма и выборы. Беседа с Владимиром Осечкиным  Гулагу-нет Официальный канал', datetime.date(2021, 9, 23), 74546, 7858, 266, None), ('PsC87lA5dFA', 'Выбор. Беседа с  Народовластие В. Мальцев', datetime.date(2021, 9, 19), 147768, 13971, 653, None), ('hijy3NFIyYA', 'Подписка о неразглашении. Беседа с Борисом Кузнецовым и Сергеем Жирновым  Serguei Jirnov', datetime.date(2021, 9, 12), 104481, 9673, 164, None), ('SY1GiUOff9Q', 'Он слишком много знал. Беседа с  Народовластие В. Мальцев. Специальный гость  General SVR', datetime.date(2021, 9, 10), 246562, 18943, 1121, None), ('NVkW3tGXoK0', 'Неубиваемый Навальный. Беседа с Фёдором Крашенинниковым', datetime.date(2021, 8, 15), 125509, 13009, 673, None), ('jeDGEVX7dGQ', 'Розовые пони. Беседа с Аркадием Бабченко', datetime.date(2021, 8, 12), 88758, 10079, 534, None), ('HnCvJlGOgw8', 'Союзники? Беседа с участием Андрея Илларионова, Павла Климкина, Алексея Арестовича', datetime.date(2021, 8, 8), 152351, 13906, 643, None), ('PjpXRnsjQ2E', 'Разгром? Беседа с  Валерий Соловей', datetime.date(2021, 8, 7), 198052, 18228, 773, None), ('BSntGgu-vvA', 'Потеря легитимности. Беседа с Игорем Яковенко', datetime.date(2021, 8, 5), 118791, 12302, 529, None), ('sMLqq0LwXfQ', 'Диктатура и спорт. Беседа с Геннадием Гудковым', datetime.date(2021, 8, 2), 91546, 10283, 293, None), ('nIBjm-RGr7U', 'Дурiсть чи зрада? Беседа с Андреем Пионтковским', datetime.date(2021, 8, 1), 139910, 14241, 631, None), ('TV9KCtxYfik', 'Заведомая правда. Беседа с Христо Грозевым', datetime.date(2021, 7, 29), 142095, 18743, 464, None), ('9Uh0b049DRE', 'Сидели на трубе... Беседа с Вячеславом Мальцевым', datetime.date(2021, 7, 26), 101944, 8794, 748, None), ('xyDIxc6XcRE', 'П. и М. сидели на трубе... Беседа с Вячеславом Мальцевым', datetime.date(2021, 7, 26), 41249, 4748, 83, None), ('XbtiZTCtlbQ', 'Союзники Украины. Беседа с  Alexey Arestovych и Андреем Пионтковским', datetime.date(2021, 7, 19), 128654, 14587, 1309, None), ('NnX0twP-6EA', 'Скоро ли война? Стрим Марка Фейгина', datetime.date(2021, 7, 15), 161773, 18383, 955, None), ('SpX8MN_UE8I', 'Анти-Россия и анти-Украина. Беседа с Игорем Яковенко', datetime.date(2021, 7, 13), 107498, 11776, 553, None), ('nFq7fV6dBUs', 'Статистическая погрешность. Беседа с д-р мед. наук Михаилом Фаворовым', datetime.date(2021, 7, 8), 111245, 11301, 679, None), ('mXtGwy32Uos', 'Расплата. Беседа с Франаком Вячоркой', datetime.date(2021, 6, 24), 134254, 13439, 831, None), ('LItk_18BhK0', 'Возвращение. Беседа с журналистом Евгением Трифоновым', datetime.date(2021, 7, 11), 120241, 12051, 339, None), ('doPChMrWo58', 'Выборные против несменяемых. Беседа с Виталием Портниковым  Портников. Аргументы', datetime.date(2021, 7, 6), 122014, 12025, 651, None), ('CBxIs5c0fQg', 'Шмурдяк. Стрим Марка Фейгина', datetime.date(2021, 7, 2), 146433, 14176, 902, None), ('E3t4TdH_Zt4', '&quot;Минский капкан&quot; для Зеленского. Беседа с Андреем Пионтковским', datetime.date(2021, 6, 27), 133384, 13625, 492, None), ('0aVNmkNrLQE', 'Диктатура, оппозиция, пандемия. Беседа с Дмитрием Гудковым', datetime.date(2021, 6, 23), 111040, 11075, 597, None), ('Nn12H5ooz_Q', 'Бунт. Беседа с Вячеславом Мальцевым', datetime.date(2021, 6, 21), 142709, 12660, 918, None), ('LpXy5S9WQtY', 'Враг альянса. Беседа с Юрием Фёдоровым', datetime.date(2021, 6, 15), 121832, 13455, 330, None), ('6QyA_6dLXmE', 'Вассал. Беседа с оппозиционным политиком Вячеславом Мальцевым', datetime.date(2021, 6, 9), 127239, 9256, 576, None), ('uDLtzeEB1Bk', 'Сиамские близнецы. Беседа с  Аркадий Бабченко', datetime.date(2021, 6, 8), 123700, 15867, 654, None), ('T_t7lDKDC18', 'Новые запреты Кремля для соцсетей. Беседа с Михаилом Климарёвым', datetime.date(2021, 6, 4), 96269, 10633, 445, None), ('ScZUrLr9BZE', 'Китайский след. Беседа с д-р мед. наук Михаилом Фаворовым', datetime.date(2021, 6, 1), 152632, 14820, 772, None), ('PX7A0qSF8js', 'Новый ГУЛАГ. Беседа с политическим обозревателем Александром Подрабинеком', datetime.date(2021, 5, 26), 95107, 10438, 448, None), ('9bVBG0zm2Rc', 'Гостеррор. Беседа с   Валерий Соловей', datetime.date(2021, 5, 24), 214141, 20945, 1143, None), ('a_5HtIaE9lA', 'Активные мероприятия. Беседа с Сергеем Жирновым', datetime.date(2021, 5, 14), 1152274, 45629, 2296, None), ('uFF9YTkmOfk', 'Экстремисты. Беседа с правозащитником Владимиром Осечкиным', datetime.date(2021, 4, 29), 114835, 12742, 605, None), ('MvyNue5-kjg', 'Покушение на тирана. Стрим Марка Фейгина', datetime.date(2021, 4, 28), 163285, 18284, 509, None), ('yjZ5NhToIDM', 'Долгие проводы. Беседа с Ольгой Карач', datetime.date(2021, 4, 23), 138981, 16084, 982, None), ('yaPcI5QBCpY', 'Между войной и санкциями. Беседа с Геннадием Гудковым', datetime.date(2021, 4, 18), 186497, 22570, 972, None), ('K2mC3zw9J4I', 'Безвозвратные потери. Беседа с журналистом Аркадий Бабченко', datetime.date(2021, 4, 15), 166864, 20250, 975, None), ('Jovtd7EVypU', 'Голодовка на фоне войны. Беседа с  Игорь Яковенко', datetime.date(2021, 4, 8), 137520, 17123, 638, None), ('ZQDLWqrPG0k', 'Военная пропаганда. Беседа с Виталием Портниковым', datetime.date(2021, 4, 5), 135732, 15365, 1388, None), ('h0EAJ9UdHSg', 'Маленькая победоносная. Беседа с  Роман Цимбалюк', datetime.date(2021, 4, 2), 179667, 21272, 806, None), ('gmfBuDxKNmw', 'Полмиллиона. Беседа с политологом Фёдором Крашенинниковым', datetime.date(2021, 3, 30), 159160, 17478, 844, None), ('fzHTeloSLzc', 'Вся Россия. Беседа с Ильёй Шумановым', datetime.date(2021, 3, 23), 141128, 13256, 297, None), ('9wBwhKf__6o', 'Заочные дебаты.  Беседа с политиком Геннадием Гудковым', datetime.date(2021, 3, 20), 214466, 21671, 1070, None), ('5yOsIdGtY4w', 'Почему НЭП? Беседа с историком Александром Шубиным', datetime.date(2021, 3, 12), 73677, 7709, 343, None), ('sQNp6rYvwYo', 'Украина минус Медведчук. Беседа с депутатом Верховной Рады Украины  Алексей Гончаренко', datetime.date(2021, 3, 9), 98790, 11787, 573, None), ('AAkZDEDQqa0', 'Подстава. Беседа с политическим обозревателем Александром Подрабинеком', datetime.date(2021, 2, 28), 132857, 13089, 459, None), ('2mk8O1USsAY', 'Чучело. Беседа с украинским журналистом Андреем Дзиндзей', datetime.date(2021, 2, 21), 110662, 11463, 528, None), ('EKRNoov0Oq8', 'Спасти Алексея Навального. Беседа с политологом Фёдором Крашенинниковым', datetime.date(2021, 2, 13), 170537, 21655, 1353, None), ('kqXI3i6XQzY', 'Открытые данные. Беседа с журналистом-расследователем BELLINGCAT Христо Грозевым', datetime.date(2021, 2, 9), 115822, 17717, 414, None), ('hUG__8d6jwg', 'Внутренняя оккупация. Беседа с лидером движения &quot;Перемен&quot;  Валерий Соловей', datetime.date(2021, 2, 7), 283933, 28172, 1322, None), ('3WBZylpv1WQ', 'Ожидание. Беседа с оппозиционным политиком Геннадием Гудковым', datetime.date(2021, 2, 5), 194640, 22802, 1020, None), ('UAr0WEV9Thg', 'Рука Москвы. Беседа с экс-сотрудником резидентуры в США Юрием Швецом', datetime.date(2021, 1, 9), 277490, 26683, 1629, None), ('ClLEdUS_oBE', 'Цена пандемии. Беседа с доктором медицинских наук Михаилом Фаворовым', datetime.date(2021, 1, 5), 152858, 14076, 976, None), ('5BfUktPRqzU', 'Год Быка. Предновогодний стрим с лидером движения &quot;Перемен&quot;  Валерий Соловей', datetime.date(2020, 12, 31), 241956, 22162, 988, None), ('nCZmuEAd0Fg', 'Оруэлл. Беседа с лидером движения &quot;Гражданское общество&quot; Михаилом Световым  SVTV', datetime.date(2020, 11, 27), 68789, 8025, 593, None), ('7LDKI3aXug0', 'Опухоль. Стрим Марка Фейгина', datetime.date(2020, 11, 6), 121806, 14024, 600, None), ('9bzCkaEbt4o', 'Однажды в Петербурге. Беседа с писателем и психоаналитиком Дмитрием Запольским', datetime.date(2020, 10, 30), 154783, 12797, 683, None), ('5zvvuj8InZ4', '&quot;Дадинская&quot; статья. Беседа с муниципальным депутатом Тимирязевского района Юлией Галяминой', datetime.date(2020, 10, 21), 23204, 2969, 167, None), ('O_EtVvsXU0k', 'Расклад сил. Беседа с лидером кыргызской партии &quot;Реформа&quot; Кларой Сооронкуловой', datetime.date(2020, 10, 17), 33293, 3276, 215, None), ('siT2Hu3iX3s', 'Театр двух империй. Беседа с Андреем Пионтковским', datetime.date(2020, 10, 11), 179820, 17941, 516, None), ('AhMtx6bu2ow', 'Месть Путина. Стрим Марка Фейгина', datetime.date(2020, 10, 1), 176727, 15849, 629, None), ('gYW09AyiVPM', 'Путин нихт ферштейн. Беседа с Андреем Пионтковским', datetime.date(2020, 9, 26), 256064, 24941, 857, None), ('vsM9poC_dCk', 'Расшифрованный самописец. Беседа с авиаэкспертом Вадимом Лукашевичем', datetime.date(2020, 9, 13), 175941, 15465, 459, None), ('nfmgBGniPhA', 'Крах неосоветской модели Лукашенко. Беседа с белорусским политиком Ярославом Романчуком', datetime.date(2020, 9, 1), 123570, 10138, 470, None), ('55MmdKn1Gh4', 'Убийцы. Беседа с журналистом и социологом Игорем Яковенко', datetime.date(2020, 8, 25), 126597, 14034, 581, None), ('5UWx4GjCs1c', 'Протестное комбо. Беседа с политологом Фёдором Крашенинниковым', datetime.date(2020, 8, 13), 62359, 5971, 230, None), ('Mfd8ov8GQco', 'После Трампа. Беседа с Александром Гольдфарбом', datetime.date(2020, 8, 7), 59863, 6275, 317, None), ('ZzZgg9Snuu4', 'Выдаст ли Лукашенко вагнеровцев Украине? Беседа с корреспондентом агентства УНИАН  Роман Цимбалюк', datetime.date(2020, 8, 5), 78528, 8559, 294, None), ('VqV79rvrZFY', 'Украинский консенсус американской элиты. Беседа с П.Климкиным, А.Пионтковским и В.Соловьём', datetime.date(2020, 6, 17), 108489, 11129, 476, None), ('vrxRyi8uxpY', 'Годовщина депортации и новые репрессии. Беседа с крымскотатарским активистом Заиром Смедля', datetime.date(2020, 5, 17), 24519, 3085, 178, None), ('PrTWWzAqTzY', 'Нанятая совесть. Беседа с журналистом Аркадием Бабченко', datetime.date(2020, 4, 21), 97939, 9627, 564, None), ('Ci3NGihuxsI', 'Зеленский. Президент эпохи коронавируса. Беседа с журналистом Виталием Портниковым (Киев)', datetime.date(2020, 4, 4), 117681, 10093, 657, None), ('T22iVSVBQsw', 'Тирания под видом карантина. Беседа с журналистом и социологом Игорем Яковенко', datetime.date(2020, 3, 31), 193382, 10502, 677, None), ('DPVHtuxvIFM', 'Между экспансией и самоизоляцией. Беседа с политологом Валерием Соловьём.', datetime.date(2020, 3, 28), 138749, 11303, 576, None), ('QyM2WqcyZNs', 'Борис Немцов: символ и жертва. Беседа с философом Александром Морозовым', datetime.date(2020, 2, 28), 16651, 1417, 54, None), ('xr0RwxyvrVQ', 'Сурков и &quot;украинский вопрос&quot;. Беседа с журналистом Романом Цымбалюком', datetime.date(2020, 2, 26), 51419, 4880, 167, None), ('V3FEL6QmNeM', 'Подальше от Путина. Беседа с Аркадием Бабченко', datetime.date(2020, 1, 28), 89196, 7666, 503, None), ('X5xVR_U9K8A', 'Путин и Питер. Беседа с Дмитрием Запольским', datetime.date(2019, 11, 26), 228399, 10796, 604, None), ('fzkMnFdCoiQ', 'Русская эмиграция и русская культура', datetime.date(2019, 10, 29), 9123, 875, 80, None), ('YB70LssUsrc', 'Новая оппозиция в Мосгордуме', datetime.date(2019, 10, 28), 3962, 352, 5, None)]\n"
     ]
    }
   ],
   "source": [
    "#view data in db table\n",
    "\n",
    "curr.execute(\"SELECT * FROM VIDEOS\")\n",
    "print(curr.fetchall())"
   ]
  },
  {
   "cell_type": "code",
   "execution_count": null,
   "metadata": {},
   "outputs": [],
   "source": []
  }
 ],
 "metadata": {
  "kernelspec": {
   "display_name": "Python 3",
   "language": "python",
   "name": "python3"
  },
  "language_info": {
   "codemirror_mode": {
    "name": "ipython",
    "version": 3
   },
   "file_extension": ".py",
   "mimetype": "text/x-python",
   "name": "python",
   "nbconvert_exporter": "python",
   "pygments_lexer": "ipython3",
   "version": "3.8.3"
  }
 },
 "nbformat": 4,
 "nbformat_minor": 4
}
